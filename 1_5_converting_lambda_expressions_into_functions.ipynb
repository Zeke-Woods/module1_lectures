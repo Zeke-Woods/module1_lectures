{
  "cells": [
    {
      "cell_type": "markdown",
      "metadata": {
        "id": "view-in-github",
        "colab_type": "text"
      },
      "source": [
        "<a href=\"https://colab.research.google.com/github/Zeke-Woods/module1_lectures/blob/main/1_5_converting_lambda_expressions_into_functions.ipynb\" target=\"_parent\"><img src=\"https://colab.research.google.com/assets/colab-badge.svg\" alt=\"Open In Colab\"/></a>"
      ]
    },
    {
      "cell_type": "markdown",
      "metadata": {
        "nbpresent": {
          "id": "72b0ede6-af2b-41e9-81af-16c345e658d3"
        },
        "id": "32Xu1yaesPnC"
      },
      "source": [
        "# Converting Lambda Expressions and Functions\n",
        "\n",
        "## Objectives\n",
        "\n",
        "1. Understand abstracting expressions through variables and functions\n",
        "2. Convert a `lambda` function into a `def` statement\n",
        "3. Write good doc strings\n",
        "4. Understand the relationship between `help` and a doc string.\n",
        "5. Understand the `assert` statement\n",
        "6. Write unit tests using a test function with assert statements."
      ]
    },
    {
      "cell_type": "markdown",
      "metadata": {
        "nbpresent": {
          "id": "139d8bbf-a76a-4fae-a525-ee2c85a0f229"
        },
        "id": "MgO__-6-sPnG"
      },
      "source": [
        "## Reusing expressions\n",
        "\n",
        "* Replace values with variables\n",
        "* Identify variables that might change\n",
        "* Make a function with the **lambda expression**\n",
        "    * changeable variables are **expressions**"
      ]
    },
    {
      "cell_type": "markdown",
      "metadata": {
        "id": "uX1LHj2-sPnI"
      },
      "source": [
        "## Abstraction\n",
        "\n",
        "Applying an **abstraction** involves replacing ***programming detail/complexity*** with a ***meaningful name***."
      ]
    },
    {
      "cell_type": "markdown",
      "metadata": {
        "id": "6jGcKPlmsPnJ"
      },
      "source": [
        "## Abstracting with Variables\n",
        "\n",
        "* **Abstraction Step 1:** Replace all raw values with a meaningful name"
      ]
    },
    {
      "cell_type": "code",
      "execution_count": 1,
      "metadata": {
        "nbpresent": {
          "id": "812d71b9-f46b-418e-8778-ce9d26182b00"
        },
        "id": "7B2aGKf8sPnK",
        "outputId": "4d3b1204-7339-40ac-aa13-e7aed992e492",
        "colab": {
          "base_uri": "https://localhost:8080/"
        }
      },
      "outputs": [
        {
          "output_type": "execute_result",
          "data": {
            "text/plain": [
              "101.25"
            ]
          },
          "metadata": {},
          "execution_count": 1
        }
      ],
      "source": [
        "# Original Computatation\n",
        "12*15*0.5625"
      ]
    },
    {
      "cell_type": "code",
      "execution_count": 2,
      "metadata": {
        "nbpresent": {
          "id": "35b904eb-7df9-47d9-84bf-31f1d7056530"
        },
        "id": "xPfWyLWJsPnN",
        "outputId": "71f05db4-b947-42fe-dc3b-12eb7198c14c",
        "colab": {
          "base_uri": "https://localhost:8080/"
        }
      },
      "outputs": [
        {
          "output_type": "execute_result",
          "data": {
            "text/plain": [
              "101.25"
            ]
          },
          "metadata": {},
          "execution_count": 2
        }
      ],
      "source": [
        "# Substitute names for values to add meaning\n",
        "length = 12\n",
        "width = 15\n",
        "tile_conv = 0.5625\n",
        "num_tile = length*width*tile_conv\n",
        "num_tile"
      ]
    },
    {
      "cell_type": "markdown",
      "metadata": {
        "id": "JUuPia4ysPnP"
      },
      "source": [
        "## Abstracting with Lambda Expressions\n",
        "\n",
        "* **Abstraction Step 2:** Packaged expressions in `lambda` to allow reuse."
      ]
    },
    {
      "cell_type": "markdown",
      "metadata": {
        "nbpresent": {
          "id": "03905b36-aec7-42fb-881c-add435565cf0"
        },
        "id": "RdsMyenYsPnR"
      },
      "source": [
        "#### Identify the variables that might change\n",
        "\n",
        "<font color=\"green\">length</font>\\*<font color=\"red\"> width</font>\\*tile_conv\n"
      ]
    },
    {
      "cell_type": "code",
      "execution_count": 3,
      "metadata": {
        "nbpresent": {
          "id": "99084922-c9bf-40e0-994c-08635f8e42df"
        },
        "id": "s4QuPZNWsPnS",
        "outputId": "d4b3aff3-d64d-47a0-a763-0149cc592e1b",
        "colab": {
          "base_uri": "https://localhost:8080/"
        }
      },
      "outputs": [
        {
          "output_type": "execute_result",
          "data": {
            "text/plain": [
              "101.25"
            ]
          },
          "metadata": {},
          "execution_count": 3
        }
      ],
      "source": [
        "tile_conv = 0.5625\n",
        "num_tile = lambda length, width: length*width*tile_conv\n",
        "num_tile(12,15) "
      ]
    },
    {
      "cell_type": "markdown",
      "metadata": {
        "nbpresent": {
          "id": "2d179aa5-ae35-4577-bdbb-de0625bba434"
        },
        "id": "DljFAzPQsPnU"
      },
      "source": [
        "## How to read a lambda expression\n",
        "\n",
        "* `lambda` means execute later\n",
        "    * does nothing now\n",
        "* Parameter(s) are \"hole(s)\" in the expression\n",
        "    * value filled in later"
      ]
    },
    {
      "cell_type": "markdown",
      "metadata": {
        "nbpresent": {
          "id": "53694070-bd79-4540-bdfa-e1c2fdf22fd1"
        },
        "id": "5vEqo5hcsPnV"
      },
      "source": [
        "### The `def` statement\n",
        "\n",
        "* Starts with `def`\n",
        "* First line is header\n",
        "    * name\n",
        "    * parameters (in parentheses)\n",
        "    * ends in `:` \n",
        "        * to open a code block\n",
        "* Body\n",
        "    * Indented 4 spaces\n",
        "    * Requires explicit `return`"
      ]
    },
    {
      "cell_type": "code",
      "execution_count": 4,
      "metadata": {
        "collapsed": true,
        "nbpresent": {
          "id": "b21c836a-c268-42b2-8e1f-78700a6ece84"
        },
        "id": "wp3SeUcrsPnW"
      },
      "outputs": [],
      "source": [
        "def sum_sqr(x, y):\n",
        "    \"\"\" Square and add two numbers\"\"\"\n",
        "    output = x**2 + y**2\n",
        "    return output"
      ]
    },
    {
      "cell_type": "markdown",
      "metadata": {
        "nbpresent": {
          "id": "85bb9fd3-b19e-4408-b5bf-43f20eb6c4cf"
        },
        "id": "QkbW3ZYKsPnX"
      },
      "source": [
        "<img src=\"https://github.com/wsu-stat489/USCOTS2017_workshop/blob/master/img/def_statement_all2.png?raw=true\">"
      ]
    },
    {
      "cell_type": "markdown",
      "metadata": {
        "nbpresent": {
          "id": "2fe549c7-4dce-4c4f-b977-97cf7a030e67"
        },
        "id": "jbQnnc3lsPnY"
      },
      "source": [
        "## Docstrings \n",
        "\n",
        "* Docstring: String on the first line of a `def` statement\n",
        "    * Usually multiline\n",
        "* doc strings are used to document functions\n",
        "    * What is shown when calling help\n",
        "* [Google's rules for doc strings](https://google.github.io/styleguide/pyguide.html#383-functions-and-methods)"
      ]
    },
    {
      "cell_type": "code",
      "execution_count": 5,
      "metadata": {
        "nbpresent": {
          "id": "604ac523-c97d-42f1-b686-c9b4f8a790c9"
        },
        "id": "-ZxnVlmmsPnZ"
      },
      "outputs": [],
      "source": [
        "def sum_sqr(x, y):\n",
        "    \"\"\" adds the squares of two numbers\n",
        "    \n",
        "    Args:\n",
        "        x: a number\n",
        "        y: a number\n",
        "        \n",
        "    Returns:\n",
        "        A number that is the sum of the squared\n",
        "        values of x and y\n",
        "    \"\"\"\n",
        "    output = x**2 + y**2\n",
        "    return output"
      ]
    },
    {
      "cell_type": "code",
      "execution_count": 6,
      "metadata": {
        "nbpresent": {
          "id": "588318bd-7982-4084-af14-614a2aee87d7"
        },
        "id": "O0VVlyJNsPna",
        "outputId": "3814252d-7ca5-4907-c961-f5ceb9875802",
        "colab": {
          "base_uri": "https://localhost:8080/"
        }
      },
      "outputs": [
        {
          "output_type": "stream",
          "name": "stdout",
          "text": [
            "Help on function sum_sqr in module __main__:\n",
            "\n",
            "sum_sqr(x, y)\n",
            "    adds the squares of two numbers\n",
            "    \n",
            "    Args:\n",
            "        x: a number\n",
            "        y: a number\n",
            "        \n",
            "    Returns:\n",
            "        A number that is the sum of the squared\n",
            "        values of x and y\n",
            "\n"
          ]
        }
      ],
      "source": [
        "help(sum_sqr)"
      ]
    },
    {
      "cell_type": "markdown",
      "metadata": {
        "nbpresent": {
          "id": "225cece1-b179-43c6-a128-4c2ddb0a90e0"
        },
        "id": "fEy9WLwlsPnb"
      },
      "source": [
        "## The `assert` statement\n",
        "\n",
        "* Syntax: `assert expression`\n",
        "* Silent if expression is true\n",
        "* Error if expression is false\n",
        "* Include and optional message"
      ]
    },
    {
      "cell_type": "code",
      "execution_count": 7,
      "metadata": {
        "nbpresent": {
          "id": "fa3c9967-4805-45fb-b5af-a108dc483fa4"
        },
        "id": "ZfpD7unfsPnb"
      },
      "outputs": [],
      "source": [
        "assert sum_sqr(3, 4) == 25\n",
        "assert sum_sqr(0, 0) == 0"
      ]
    },
    {
      "cell_type": "code",
      "execution_count": 8,
      "metadata": {
        "nbpresent": {
          "id": "1a08086d-b272-499f-be19-91ef6665a8db"
        },
        "id": "wSFIO54usPnc",
        "outputId": "3c760a53-2a6f-4920-a61a-d7ce48569ac0",
        "colab": {
          "base_uri": "https://localhost:8080/",
          "height": 169
        }
      },
      "outputs": [
        {
          "output_type": "error",
          "ename": "AssertionError",
          "evalue": "ignored",
          "traceback": [
            "\u001b[0;31m---------------------------------------------------------------------------\u001b[0m",
            "\u001b[0;31mAssertionError\u001b[0m                            Traceback (most recent call last)",
            "\u001b[0;32m<ipython-input-8-87846395074d>\u001b[0m in \u001b[0;36m<module>\u001b[0;34m\u001b[0m\n\u001b[0;32m----> 1\u001b[0;31m \u001b[0;32massert\u001b[0m \u001b[0msum_sqr\u001b[0m\u001b[0;34m(\u001b[0m\u001b[0;36m3\u001b[0m\u001b[0;34m,\u001b[0m \u001b[0;36m4\u001b[0m\u001b[0;34m)\u001b[0m \u001b[0;34m==\u001b[0m \u001b[0;36m5\u001b[0m\u001b[0;34m\u001b[0m\u001b[0;34m\u001b[0m\u001b[0m\n\u001b[0m",
            "\u001b[0;31mAssertionError\u001b[0m: "
          ]
        }
      ],
      "source": [
        "assert sum_sqr(3, 4) == 5"
      ]
    },
    {
      "cell_type": "code",
      "execution_count": 9,
      "metadata": {
        "nbpresent": {
          "id": "1a08086d-b272-499f-be19-91ef6665a8db"
        },
        "id": "BKgCeO4asPnc",
        "outputId": "837f34e1-ed49-42a6-a032-b41835c8edf3",
        "colab": {
          "base_uri": "https://localhost:8080/",
          "height": 169
        }
      },
      "outputs": [
        {
          "output_type": "error",
          "ename": "AssertionError",
          "evalue": "ignored",
          "traceback": [
            "\u001b[0;31m---------------------------------------------------------------------------\u001b[0m",
            "\u001b[0;31mAssertionError\u001b[0m                            Traceback (most recent call last)",
            "\u001b[0;32m<ipython-input-9-b764e90a5dfb>\u001b[0m in \u001b[0;36m<module>\u001b[0;34m\u001b[0m\n\u001b[0;32m----> 1\u001b[0;31m \u001b[0;32massert\u001b[0m \u001b[0msum_sqr\u001b[0m\u001b[0;34m(\u001b[0m\u001b[0;36m3\u001b[0m\u001b[0;34m,\u001b[0m \u001b[0;36m4\u001b[0m\u001b[0;34m)\u001b[0m \u001b[0;34m==\u001b[0m \u001b[0;36m5\u001b[0m\u001b[0;34m,\u001b[0m \u001b[0;34m\"3**2 + 4**2 is not 5, but 5**2\"\u001b[0m\u001b[0;34m\u001b[0m\u001b[0;34m\u001b[0m\u001b[0m\n\u001b[0m",
            "\u001b[0;31mAssertionError\u001b[0m: 3**2 + 4**2 is not 5, but 5**2"
          ]
        }
      ],
      "source": [
        "assert sum_sqr(3, 4) == 5, \"3**2 + 4**2 is not 5, but 5**2\""
      ]
    },
    {
      "cell_type": "markdown",
      "metadata": {
        "nbpresent": {
          "id": "ac34b162-18d8-42ae-a027-2385fb086ddc"
        },
        "id": "KEP3Cgn7sPnd"
      },
      "source": [
        "## Writing test functions\n",
        "\n",
        "* Name the function \"test_func_name\"\n",
        "    * Allows automatic testing with py.test module\n",
        "* Body consists of assert statements\n",
        "* Follow with a function call\n",
        "* No errors == passed the test"
      ]
    },
    {
      "cell_type": "code",
      "execution_count": null,
      "metadata": {
        "nbpresent": {
          "id": "e0eaeee6-7ec6-4d69-b6b7-be46baa0c571"
        },
        "id": "Xe-igfbqsPne"
      },
      "outputs": [],
      "source": [
        "def test_leap_year():\n",
        "    assert sum_sqr(3,4) == 25\n",
        "    assert sum_sqr(-3,4) == 25\n",
        "    assert sum_sqr(0,3) == 9\n",
        "    assert sum_sqr(3, 0) == 9\n",
        "    assert sum_sqr(0, 0) == 0\n",
        "test_leap_year() # Silence is golden!"
      ]
    },
    {
      "cell_type": "markdown",
      "metadata": {
        "id": "M1SXmHGEsPnf"
      },
      "source": [
        "### Converting `lambda` expression to `def` statements\n",
        "\n",
        "* lambda expressions process one expression\n",
        "    * add one assignment statement\n",
        "* lambda expressions always return the value\n",
        "    * add a return statement\n",
        "* Always test on some examples!"
      ]
    },
    {
      "cell_type": "code",
      "execution_count": null,
      "metadata": {
        "id": "vs39Mh-0sPng",
        "outputId": "adf7ab80-7680-4534-a97e-d7b984f335f1"
      },
      "outputs": [
        {
          "data": {
            "text/plain": [
              "67.5"
            ]
          },
          "execution_count": 22,
          "metadata": {},
          "output_type": "execute_result"
        }
      ],
      "source": [
        "tile_conv = 0.5625\n",
        "num_tile = lambda length, width: length*width*tile_conv\n",
        "num_tile(10,12)"
      ]
    },
    {
      "cell_type": "code",
      "execution_count": null,
      "metadata": {
        "id": "k_sBmStcsPnh"
      },
      "outputs": [],
      "source": [
        "def num_tile(length, width):\n",
        "    \"\"\"Compute the number of 9 inch \n",
        "       tile for a room of area length*width\n",
        "       \n",
        "       Args:\n",
        "           length: a number that is length of the room in feet\n",
        "           width: a number that is width of the room in feet\n",
        "           \n",
        "       Returns:\n",
        "           A number representing the number of 9 inch tile \n",
        "           needed to tile the room\n",
        "    \"\"\"\n",
        "    output = length*width*tile_conv\n",
        "    return output\n",
        "\n",
        "def test_num_tile():\n",
        "    assert num_tile(10, 12) == 67.5\n",
        "    assert num_tile(0, 12) == 0\n",
        "test_num_tile()"
      ]
    },
    {
      "cell_type": "markdown",
      "metadata": {
        "id": "NuWUGDxNsPnh"
      },
      "source": [
        "<img src=\"https://github.com/wsu-stat489/USCOTS2017_workshop/blob/master/img/how_I_write_programs.png?raw=true\">"
      ]
    },
    {
      "cell_type": "markdown",
      "metadata": {
        "id": "rTteEQaBsPni"
      },
      "source": [
        "### <font color=\"red\"> Exercise 4 </font>\n",
        "\n",
        "Many people keep time using a 24 hour clock (11 is 11am and 23 is 11pm, 0 is midnight). If it is currently 13 and you set your alarm to go off in 50 hours, it will be 15 (3pm). Write a Python function to solve the general version of the above problem using variables and functions. \n",
        "\n",
        "**Hint** You will want to use modular arithmetic"
      ]
    },
    {
      "cell_type": "markdown",
      "metadata": {
        "id": "r-TiZFEIsPni"
      },
      "source": [
        "#### Step 1 - Solve a specific example with variables and expressions"
      ]
    },
    {
      "cell_type": "code",
      "execution_count": 1,
      "metadata": {
        "collapsed": true,
        "id": "tW__yTA6sPnj",
        "colab": {
          "base_uri": "https://localhost:8080/"
        },
        "outputId": "8e4bed4a-1113-4a92-e08c-ce012d353cfc"
      },
      "outputs": [
        {
          "output_type": "execute_result",
          "data": {
            "text/plain": [
              "15"
            ]
          },
          "metadata": {},
          "execution_count": 1
        }
      ],
      "source": [
        "(13 + 50) % 24"
      ]
    },
    {
      "cell_type": "code",
      "source": [
        "timenow = 13\n",
        "alarmtime = 50\n",
        "clocktime = 24\n",
        "(timenow + alarmtime) % clocktime"
      ],
      "metadata": {
        "colab": {
          "base_uri": "https://localhost:8080/"
        },
        "id": "lX2RQqPMJy_F",
        "outputId": "58bdaea8-c741-41a5-94bf-007446974cbc"
      },
      "execution_count": 2,
      "outputs": [
        {
          "output_type": "execute_result",
          "data": {
            "text/plain": [
              "15"
            ]
          },
          "metadata": {},
          "execution_count": 2
        }
      ]
    },
    {
      "cell_type": "markdown",
      "metadata": {
        "id": "-63JhA--sPnj"
      },
      "source": [
        "#### Step 2 - Convert your expression to a general solution with a `lambda` expression"
      ]
    },
    {
      "cell_type": "code",
      "execution_count": 5,
      "metadata": {
        "collapsed": true,
        "id": "iwdAuOZGsPnk"
      },
      "outputs": [],
      "source": [
        "time = lambda t, a, s: (t + a) % s"
      ]
    },
    {
      "cell_type": "code",
      "source": [
        "time(13, 50, 24)"
      ],
      "metadata": {
        "colab": {
          "base_uri": "https://localhost:8080/"
        },
        "id": "EL9ZsiGZuUti",
        "outputId": "3234e6d8-b9c0-4f42-d3c4-883ad06dc491"
      },
      "execution_count": 6,
      "outputs": [
        {
          "output_type": "execute_result",
          "data": {
            "text/plain": [
              "15"
            ]
          },
          "metadata": {},
          "execution_count": 6
        }
      ]
    },
    {
      "cell_type": "markdown",
      "metadata": {
        "id": "Fv0bKKJksPnk"
      },
      "source": [
        "#### Step 3 - Convert your `lambda` expression to a function (remember to return)"
      ]
    },
    {
      "cell_type": "code",
      "execution_count": 7,
      "metadata": {
        "collapsed": true,
        "id": "3VskTjXVsPnk"
      },
      "outputs": [],
      "source": [
        "def time_adjust(time_now, alarm_time, day_length):\n",
        "  output = (time_now + alarm_time) % day_length\n",
        "  return output"
      ]
    },
    {
      "cell_type": "code",
      "source": [
        "time_adjust(13, 50, 24)"
      ],
      "metadata": {
        "colab": {
          "base_uri": "https://localhost:8080/"
        },
        "id": "pFT41Y1WsSZq",
        "outputId": "f05bb96b-9f7b-465c-c502-d4128f2a389f"
      },
      "execution_count": 8,
      "outputs": [
        {
          "output_type": "execute_result",
          "data": {
            "text/plain": [
              "15"
            ]
          },
          "metadata": {},
          "execution_count": 8
        }
      ]
    },
    {
      "cell_type": "markdown",
      "metadata": {
        "id": "bUv8LEresPnk"
      },
      "source": [
        "#### Step 4 - Clean up your code by adding a docstring and test function"
      ]
    },
    {
      "cell_type": "code",
      "execution_count": 11,
      "metadata": {
        "collapsed": true,
        "id": "NbkdrVBysPnl"
      },
      "outputs": [],
      "source": [
        "def time_adjust(time_now, alarm_time, day_length):\n",
        "  \"\"\"compute the time that an alarm will go off at given the time set, \n",
        "     how long the alarm is, and if its a 24 or 12 hour day\"\"\"\n",
        "  output = (time_now + alarm_time) % day_length\n",
        "  return output\n",
        "\n",
        "def test_time():\n",
        "  assert time_adjust(13, 50, 24) == 15\n",
        "  assert time_adjust(6, 25, 24) == 7\n",
        "test_time()"
      ]
    }
  ],
  "metadata": {
    "anaconda-cloud": {},
    "kernelspec": {
      "display_name": "Python 3",
      "language": "python",
      "name": "python3"
    },
    "language_info": {
      "codemirror_mode": {
        "name": "ipython",
        "version": 3
      },
      "file_extension": ".py",
      "mimetype": "text/x-python",
      "name": "python",
      "nbconvert_exporter": "python",
      "pygments_lexer": "ipython3",
      "version": "3.7.2"
    },
    "nbpresent": {
      "slides": {
        "d8cfa8b7-18e5-4d2f-8e92-8164c8bfad3b": {
          "id": "d8cfa8b7-18e5-4d2f-8e92-8164c8bfad3b",
          "prev": null,
          "regions": {
            "81231d63-4899-45f2-b382-fabf4f762896": {
              "attrs": {
                "height": 0.8,
                "width": 0.45,
                "x": 0.5,
                "y": 0.1
              },
              "id": "81231d63-4899-45f2-b382-fabf4f762896"
            },
            "b40d103d-8d7f-44de-8fca-19b2f9861cdd": {
              "attrs": {
                "height": 0.8,
                "width": 0.45,
                "x": 0.05,
                "y": 0.1
              },
              "id": "b40d103d-8d7f-44de-8fca-19b2f9861cdd"
            }
          }
        }
      },
      "themes": {}
    },
    "colab": {
      "provenance": [],
      "name": "Copy of 1_5_converting_lambda_expressions_into_functions.ipynb",
      "include_colab_link": true
    }
  },
  "nbformat": 4,
  "nbformat_minor": 0
}